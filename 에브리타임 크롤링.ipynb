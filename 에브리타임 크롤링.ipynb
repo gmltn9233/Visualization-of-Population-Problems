{
  "cells": [
    {
      "cell_type": "code",
      "source": [
        "# 자동 로그인\n",
        "import selenium\n",
        "from selenium import webdriver as wd\n",
        "import time\n",
        "import pandas as pd\n",
        "import random\n",
        "from bs4 import BeautifulSoup\n",
        "from selenium.webdriver.common.by import By\n",
        "from konlpy.tag import Kkma\n",
        "import openpyxl\n",
        "\n",
        "kma = Kkma()\n",
        "\n",
        "excel_file = openpyxl.Workbook()\n",
        "excel_sheet = excel_file.active\n",
        "\n",
        "# 에브리타임 자동 로그인\n",
        "\n",
        "# 가상브라우저 사용\n",
        "options = wd.ChromeOptions()\n",
        "options.add_argument(\"no-sandbox\")\n",
        "options.add_argument(\"--headless\")\n",
        "options.add_argument(\"--disable-dev-shm-usage\")\n",
        "options.add_argument(\"user-agent={Mozilla/5.0 (X11; Linux x86_64) AppleWebKit/537.36 (KHTML, like Gecko) Chrome/85.0.4183.121 Safari/537.36}\")\n",
        "\n",
        "driver = wd.Chrome(options=options)\n",
        "driver.implicitly_wait(10)\n",
        "url = 'https://everytime.kr/login'\n",
        "driver.get(url)\n",
        "\n",
        "id = '아이디'\n",
        "pw = '비밀번호'\n",
        "\n",
        "driver.find_element(by='name', value='id').send_keys(id)\n",
        "driver.find_element(by='name', value='password').send_keys(pw)\n",
        "driver.find_element(by='xpath', value='//input[@value=\"에브리타임 로그인\"]').click()\n",
        "driver.implicitly_wait(20)\n",
        "\n",
        "cnt = 0\n",
        "max_cnt = 10\n",
        "count = 0\n",
        "while True:\n",
        "  print('Page ' +str(cnt+1))\n",
        "  if cnt> max_cnt :\n",
        "    break;\n",
        "  cnt = cnt + 1\n",
        "  driver.get('https://everytime.kr/hotarticle/p/'+str(cnt))\n",
        "  driver.implicitly_wait(50)\n",
        "  res = driver.page_source\n",
        "  #container > div.wrap.articles > article:nth-child(2) > a\n",
        "  soup = BeautifulSoup(res,\"html.parser\")\n",
        "  posts = soup.select('article.list > a.article')\n",
        "  links = [post.get_attribute('href') for post in posts]\n",
        "  for link in links :\n",
        "    count = count +1\n",
        "    driver.implicitly_wait(50)\n",
        "    sleep(random.randrange(1,4))\n",
        "    driver.get(link)\n",
        "    data_name = driver.find_element(By.CSS_SELECTOR,'h2.large')\n",
        "    data_name = data_name.text.strip()\n",
        "    print(data_name)\n",
        "    data_text = driver.find_element(By.CSS_SELECTOR,'p.large')\n",
        "    data_text = data_text.text.strip()\n",
        "    print(data_text)\n",
        "\n",
        "excel_file.save('eveytime crawling.xlsx')\n",
        "excel_file.close()\n",
        "driver.quit()"
      ],
      "metadata": {
        "id": "KIOXAdMXf8LP"
      },
      "execution_count": null,
      "outputs": []
    },
    {
      "cell_type": "code",
      "execution_count": null,
      "metadata": {
        "colab": {
          "base_uri": "https://localhost:8080/",
          "height": 17
        },
        "id": "26_xvhflYHSi",
        "outputId": "05eeec88-0286-4b78-e268-dff8839bc236"
      },
      "outputs": [
        {
          "data": {
            "application/javascript": [
              "\n",
              "    async function download(id, filename, size) {\n",
              "      if (!google.colab.kernel.accessAllowed) {\n",
              "        return;\n",
              "      }\n",
              "      const div = document.createElement('div');\n",
              "      const label = document.createElement('label');\n",
              "      label.textContent = `Downloading \"${filename}\": `;\n",
              "      div.appendChild(label);\n",
              "      const progress = document.createElement('progress');\n",
              "      progress.max = size;\n",
              "      div.appendChild(progress);\n",
              "      document.body.appendChild(div);\n",
              "\n",
              "      const buffers = [];\n",
              "      let downloaded = 0;\n",
              "\n",
              "      const channel = await google.colab.kernel.comms.open(id);\n",
              "      // Send a message to notify the kernel that we're ready.\n",
              "      channel.send({})\n",
              "\n",
              "      for await (const message of channel.messages) {\n",
              "        // Send a message to notify the kernel that we're ready.\n",
              "        channel.send({})\n",
              "        if (message.buffers) {\n",
              "          for (const buffer of message.buffers) {\n",
              "            buffers.push(buffer);\n",
              "            downloaded += buffer.byteLength;\n",
              "            progress.value = downloaded;\n",
              "          }\n",
              "        }\n",
              "      }\n",
              "      const blob = new Blob(buffers, {type: 'application/binary'});\n",
              "      const a = document.createElement('a');\n",
              "      a.href = window.URL.createObjectURL(blob);\n",
              "      a.download = filename;\n",
              "      div.appendChild(a);\n",
              "      a.click();\n",
              "      div.remove();\n",
              "    }\n",
              "  "
            ],
            "text/plain": [
              "<IPython.core.display.Javascript object>"
            ]
          },
          "metadata": {},
          "output_type": "display_data"
        },
        {
          "data": {
            "application/javascript": [
              "download(\"download_88b8223f-2ba3-458d-ad54-7edf59d19dd4\", \"eveytime crawling.xlsx\", 12228)"
            ],
            "text/plain": [
              "<IPython.core.display.Javascript object>"
            ]
          },
          "metadata": {},
          "output_type": "display_data"
        }
      ],
      "source": [
        "from google.colab import files\n",
        "\n",
        "# 파일 다운로드\n",
        "files.download('eveytime crawling.xlsx')\n",
        "\n",
        "data_comments = \"\"\n",
        "    comments = driver.find_elements(By.CSS_SELECTOR,'article.parent p.large')\n",
        "    for comment in comments :\n",
        "      data_comments= data_comments+ \",\" +comment.text.strip()\n",
        "    print(data_comments)\n",
        "    excel_sheet.append((count,data_name, data_text,data_comments))\n"
      ]
    }
  ],
  "metadata": {
    "colab": {
      "provenance": []
    },
    "kernelspec": {
      "display_name": "Python 3",
      "name": "python3"
    },
    "language_info": {
      "name": "python"
    }
  },
  "nbformat": 4,
  "nbformat_minor": 0
}